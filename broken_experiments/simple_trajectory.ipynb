{
 "cells": [
  {
   "attachments": {},
   "cell_type": "markdown",
   "metadata": {},
   "source": [
    "# Training a Simple AE and EGAE on a (biased) trajectory"
   ]
  },
  {
   "attachments": {},
   "cell_type": "markdown",
   "metadata": {},
   "source": [
    "## Import Dependencies"
   ]
  },
  {
   "cell_type": "code",
   "execution_count": 1,
   "metadata": {},
   "outputs": [
    {
     "name": "stderr",
     "output_type": "stream",
     "text": [
      "/home/rorroart/miniconda3/envs/sages_2/lib/python3.8/site-packages/tqdm/auto.py:21: TqdmWarning: IProgress not found. Please update jupyter and ipywidgets. See https://ipywidgets.readthedocs.io/en/stable/user_install.html\n",
      "  from .autonotebook import tqdm as notebook_tqdm\n"
     ]
    }
   ],
   "source": [
    "import jax \n",
    "import jax.numpy as jnp\n",
    "\n",
    "from jax import random\n",
    "\n",
    "import haiku as hk\n",
    "import optax\n",
    "\n",
    "from utils import load_dcd_dataset, bonds_to_graph\n",
    "from models import MLP_AE, SimpleDecoder, EGEncoder\n",
    "from training import fit"
   ]
  },
  {
   "cell_type": "code",
   "execution_count": 2,
   "metadata": {},
   "outputs": [],
   "source": [
    "def get_bonds_from_pdb(pdb_file_path, bond_distance_threshold=1.6):\n",
    "    atoms = []\n",
    "    with open(pdb_file_path, 'r') as pdb_file:\n",
    "        for line in pdb_file:\n",
    "            record_type = line[0:6].strip()\n",
    "            if record_type == \"ATOM\":\n",
    "                atom_serial = int(line[6:11])\n",
    "                atom_symbol = line[12:16].strip()\n",
    "                atom_position = [float(line[30:38]), float(line[38:46]), float(line[46:54])]\n",
    "                atoms.append((atom_serial, atom_symbol, atom_position))\n",
    "\n",
    "    bonds = []\n",
    "    for i in range(len(atoms)):\n",
    "        for j in range(i + 1, len(atoms)):\n",
    "            distance = jnp.linalg.norm(jnp.array(atoms[i][2]) - jnp.array(atoms[j][2]))\n",
    "            if distance <= bond_distance_threshold:\n",
    "                bonds.append((atoms[i][0] - 1, atoms[j][0] - 1))\n",
    "\n",
    "    return bonds"
   ]
  },
  {
   "cell_type": "code",
   "execution_count": 3,
   "metadata": {},
   "outputs": [],
   "source": [
    "pdb_file_path = \"data/adp-vacuum.pdb\"\n",
    "bonds = get_bonds_from_pdb(pdb_file_path)"
   ]
  },
  {
   "cell_type": "code",
   "execution_count": 3,
   "metadata": {},
   "outputs": [
    {
     "ename": "NameError",
     "evalue": "name 'bonds' is not defined",
     "output_type": "error",
     "traceback": [
      "\u001b[0;31m---------------------------------------------------------------------------\u001b[0m",
      "\u001b[0;31mNameError\u001b[0m                                 Traceback (most recent call last)",
      "Cell \u001b[0;32mIn[3], line 1\u001b[0m\n\u001b[0;32m----> 1\u001b[0m bonds\n",
      "\u001b[0;31mNameError\u001b[0m: name 'bonds' is not defined"
     ]
    }
   ],
   "source": [
    "bonds"
   ]
  },
  {
   "attachments": {},
   "cell_type": "markdown",
   "metadata": {},
   "source": [
    "## Define the molecule structure (butane), global variables, and dataset."
   ]
  },
  {
   "cell_type": "code",
   "execution_count": 4,
   "metadata": {},
   "outputs": [
    {
     "name": "stderr",
     "output_type": "stream",
     "text": [
      "/home/rorroart/models/ecv/utils/graph.py:22: UserWarning: Explicitly requested dtype <class 'numpy.integer'> requested in astype is not available, and will be truncated to dtype int32. To enable more dtypes, set the jax_enable_x64 configuration option or the JAX_ENABLE_X64 shell environment variable. See https://github.com/google/jax#current-gotchas for more.\n",
      "  bonds = bonds.astype(jnp.integer)\n",
      "/home/rorroart/miniconda3/envs/sages_2/lib/python3.8/site-packages/MDAnalysis/coordinates/DCD.py:165: DeprecationWarning: DCDReader currently makes independent timesteps by copying self.ts while other readers update self.ts inplace. This behavior will be changed in 3.0 to be the same as other readers. Read more at https://github.com/MDAnalysis/mdanalysis/issues/3889 to learn if this change in behavior might affect you.\n",
      "  warnings.warn(\"DCDReader currently makes independent timesteps\"\n"
     ]
    }
   ],
   "source": [
    "N_MOLECULES = 22\n",
    "BATCH_SIZE = 1\n",
    "\n",
    "BONDS =  jnp.array(bonds)\n",
    "\n",
    "edges, edge_attr, adj = bonds_to_graph(BONDS, N_MOLECULES)\n",
    "\n",
    "train_loader = load_dcd_dataset('data/adp-vacuum.pdb', './data/traj5.dcd', BATCH_SIZE)"
   ]
  },
  {
   "attachments": {},
   "cell_type": "markdown",
   "metadata": {},
   "source": [
    "## Experiment 1: training only with coordinates (no node features)"
   ]
  },
  {
   "cell_type": "code",
   "execution_count": 8,
   "metadata": {},
   "outputs": [],
   "source": [
    "# Initialize models\n",
    "\n",
    "@hk.transform\n",
    "def mlp_ve(inputs):\n",
    "  model = MLP_AE(\n",
    "      in_ft=N_MOLECULES*3,\n",
    "      G=64,\n",
    "      K=3\n",
    "  )\n",
    "  return model(inputs)\n",
    "\n",
    "@hk.transform\n",
    "def egae(inputs):\n",
    "  encoder = EGEncoder(\n",
    "        hidden_nf=32,\n",
    "        n_layers=3,\n",
    "        z_dim=3,\n",
    "        activation=jax.nn.swish,\n",
    "        reg=1e-3\n",
    "  )\n",
    "  decoder = SimpleDecoder( \n",
    "    in_ft=N_MOLECULES*3,\n",
    "    G=64,\n",
    "  )\n",
    "  _, latent = encoder(inputs)\n",
    "  out = decoder(latent.flatten())\n",
    "  return out, latent\n"
   ]
  },
  {
   "cell_type": "code",
   "execution_count": 6,
   "metadata": {},
   "outputs": [],
   "source": [
    "def process_mlp_batch(batch):\n",
    "    _, x, _ = batch\n",
    "    x = x.squeeze(0).flatten()\n",
    "    return x, x\n",
    "\n",
    "def process_egae_batch(batch):\n",
    "    _, x, _ = batch\n",
    "    x = x.squeeze(0)\n",
    "    h = jnp.expand_dims(jnp.ones(x.shape[0]), axis=1)\n",
    "    return (h, x, edges, edge_attr), x\n",
    "\n",
    "def compute_loss_mlp(params, x, y):\n",
    "    y_hat, _ = mlp_ve.apply(params, jax.random.PRNGKey(0), x)\n",
    "\n",
    "    loss = jnp.abs((y_hat.reshape(y.shape ) - y)).mean()\n",
    "\n",
    "    return loss\n",
    "\n",
    "def compute_loss_egae(params, x, y):\n",
    "    y_hat, _ = egae.apply(params, jax.random.PRNGKey(0), x)\n",
    "\n",
    "    loss = jnp.abs((y_hat.reshape(y.shape ) - y)).mean()\n",
    "\n",
    "    return loss"
   ]
  },
  {
   "attachments": {},
   "cell_type": "markdown",
   "metadata": {},
   "source": [
    "### Train MLP AutoEncoder"
   ]
  },
  {
   "cell_type": "code",
   "execution_count": 19,
   "metadata": {},
   "outputs": [
    {
     "ename": "InconclusiveDimensionOperation",
     "evalue": "Cannot divide evenly the sizes of shapes (42,) and (66,)",
     "output_type": "error",
     "traceback": [
      "\u001b[0;31m---------------------------------------------------------------------------\u001b[0m",
      "\u001b[0;31mInconclusiveDimensionOperation\u001b[0m            Traceback (most recent call last)",
      "Cell \u001b[0;32mIn[19], line 10\u001b[0m\n\u001b[1;32m      6\u001b[0m x, _ \u001b[39m=\u001b[39m process_mlp_batch(batch)\n\u001b[1;32m      8\u001b[0m initial_params \u001b[39m=\u001b[39m mlp_ve\u001b[39m.\u001b[39minit(rng, x)\n\u001b[0;32m---> 10\u001b[0m params \u001b[39m=\u001b[39m fit(initial_params, optimizer, compute_loss_mlp, process_mlp_batch, train_loader, \u001b[39m100\u001b[39;49m)\n",
      "File \u001b[0;32m~/models/ecv/training.py:37\u001b[0m, in \u001b[0;36mfit\u001b[0;34m(params, optimizer, loss_fn, process_batch, data_loader, epochs)\u001b[0m\n\u001b[1;32m     35\u001b[0m \u001b[39mfor\u001b[39;00m j, batch \u001b[39min\u001b[39;00m \u001b[39menumerate\u001b[39m(data_loader):\n\u001b[1;32m     36\u001b[0m   x, y \u001b[39m=\u001b[39m process_batch(batch)\n\u001b[0;32m---> 37\u001b[0m   params, state, loss \u001b[39m=\u001b[39m update(params, state, x, y)\n\u001b[1;32m     38\u001b[0m   losses\u001b[39m.\u001b[39mappend(loss)\n\u001b[1;32m     39\u001b[0m   \u001b[39m#print(f'loss:{loss}')\u001b[39;00m\n",
      "    \u001b[0;31m[... skipping hidden 12 frame]\u001b[0m\n",
      "File \u001b[0;32m~/models/ecv/training.py:15\u001b[0m, in \u001b[0;36mbuild_update_function.<locals>.update\u001b[0;34m(params, state, x, y)\u001b[0m\n\u001b[1;32m     13\u001b[0m \u001b[39m@jax\u001b[39m\u001b[39m.\u001b[39mjit\n\u001b[1;32m     14\u001b[0m \u001b[39mdef\u001b[39;00m \u001b[39mupdate\u001b[39m(params, state, x, y):\n\u001b[0;32m---> 15\u001b[0m   loss, grads \u001b[39m=\u001b[39m jax\u001b[39m.\u001b[39;49mvalue_and_grad(loss_fn)(params, x, y)\n\u001b[1;32m     16\u001b[0m   updates, state \u001b[39m=\u001b[39m optimizer\u001b[39m.\u001b[39mupdate(grads, state, params)\n\u001b[1;32m     17\u001b[0m   params \u001b[39m=\u001b[39m optax\u001b[39m.\u001b[39mapply_updates(params, updates)\n",
      "    \u001b[0;31m[... skipping hidden 8 frame]\u001b[0m\n",
      "Cell \u001b[0;32mIn[18], line 15\u001b[0m, in \u001b[0;36mcompute_loss_mlp\u001b[0;34m(params, x, y)\u001b[0m\n\u001b[1;32m     12\u001b[0m \u001b[39mdef\u001b[39;00m \u001b[39mcompute_loss_mlp\u001b[39m(params, x, y):\n\u001b[1;32m     13\u001b[0m     y_hat, _ \u001b[39m=\u001b[39m mlp_ve\u001b[39m.\u001b[39mapply(params, jax\u001b[39m.\u001b[39mrandom\u001b[39m.\u001b[39mPRNGKey(\u001b[39m0\u001b[39m), x)\n\u001b[0;32m---> 15\u001b[0m     loss \u001b[39m=\u001b[39m jnp\u001b[39m.\u001b[39mabs((y_hat\u001b[39m.\u001b[39;49mreshape(y\u001b[39m.\u001b[39;49mshape ) \u001b[39m-\u001b[39m y))\u001b[39m.\u001b[39mmean()\n\u001b[1;32m     17\u001b[0m     \u001b[39mreturn\u001b[39;00m loss\n",
      "File \u001b[0;32m~/miniconda3/envs/sages_2/lib/python3.8/site-packages/jax/_src/numpy/array_methods.py:795\u001b[0m, in \u001b[0;36m_forward_method_to_aval.<locals>.meth\u001b[0;34m(self, *args, **kwargs)\u001b[0m\n\u001b[1;32m    794\u001b[0m \u001b[39mdef\u001b[39;00m \u001b[39mmeth\u001b[39m(\u001b[39mself\u001b[39m, \u001b[39m*\u001b[39margs, \u001b[39m*\u001b[39m\u001b[39m*\u001b[39mkwargs):\n\u001b[0;32m--> 795\u001b[0m   \u001b[39mreturn\u001b[39;00m \u001b[39mgetattr\u001b[39;49m(\u001b[39mself\u001b[39;49m\u001b[39m.\u001b[39;49maval, name)\u001b[39m.\u001b[39;49mfun(\u001b[39mself\u001b[39;49m, \u001b[39m*\u001b[39;49margs, \u001b[39m*\u001b[39;49m\u001b[39m*\u001b[39;49mkwargs)\n",
      "File \u001b[0;32m~/miniconda3/envs/sages_2/lib/python3.8/site-packages/jax/_src/numpy/array_methods.py:145\u001b[0m, in \u001b[0;36m_reshape\u001b[0;34m(a, order, *args)\u001b[0m\n\u001b[1;32m    143\u001b[0m newshape \u001b[39m=\u001b[39m _compute_newshape(a, args[\u001b[39m0\u001b[39m] \u001b[39mif\u001b[39;00m \u001b[39mlen\u001b[39m(args) \u001b[39m==\u001b[39m \u001b[39m1\u001b[39m \u001b[39melse\u001b[39;00m args)\n\u001b[1;32m    144\u001b[0m \u001b[39mif\u001b[39;00m order \u001b[39m==\u001b[39m \u001b[39m\"\u001b[39m\u001b[39mC\u001b[39m\u001b[39m\"\u001b[39m:\n\u001b[0;32m--> 145\u001b[0m   \u001b[39mreturn\u001b[39;00m lax\u001b[39m.\u001b[39;49mreshape(a, newshape, \u001b[39mNone\u001b[39;49;00m)\n\u001b[1;32m    146\u001b[0m \u001b[39melif\u001b[39;00m order \u001b[39m==\u001b[39m \u001b[39m\"\u001b[39m\u001b[39mF\u001b[39m\u001b[39m\"\u001b[39m:\n\u001b[1;32m    147\u001b[0m   dims \u001b[39m=\u001b[39m \u001b[39mlist\u001b[39m(\u001b[39mrange\u001b[39m(a\u001b[39m.\u001b[39mndim)[::\u001b[39m-\u001b[39m\u001b[39m1\u001b[39m])\n",
      "    \u001b[0;31m[... skipping hidden 15 frame]\u001b[0m\n",
      "File \u001b[0;32m~/miniconda3/envs/sages_2/lib/python3.8/site-packages/jax/_src/core.py:1837\u001b[0m, in \u001b[0;36mDimensionHandler.divide_shape_sizes\u001b[0;34m(self, s1, s2)\u001b[0m\n\u001b[1;32m   1835\u001b[0m   \u001b[39mreturn\u001b[39;00m \u001b[39m1\u001b[39m\n\u001b[1;32m   1836\u001b[0m \u001b[39mif\u001b[39;00m sz1 \u001b[39m%\u001b[39m sz2:\n\u001b[0;32m-> 1837\u001b[0m   \u001b[39mraise\u001b[39;00m InconclusiveDimensionOperation(\u001b[39mf\u001b[39m\u001b[39m\"\u001b[39m\u001b[39mCannot divide evenly the sizes of shapes \u001b[39m\u001b[39m{\u001b[39;00m\u001b[39mtuple\u001b[39m(s1)\u001b[39m}\u001b[39;00m\u001b[39m and \u001b[39m\u001b[39m{\u001b[39;00m\u001b[39mtuple\u001b[39m(s2)\u001b[39m}\u001b[39;00m\u001b[39m\"\u001b[39m)\n\u001b[1;32m   1838\u001b[0m \u001b[39mreturn\u001b[39;00m sz1 \u001b[39m/\u001b[39m\u001b[39m/\u001b[39m sz2\n",
      "\u001b[0;31mInconclusiveDimensionOperation\u001b[0m: Cannot divide evenly the sizes of shapes (42,) and (66,)"
     ]
    }
   ],
   "source": [
    "rng = random.PRNGKey(390)\n",
    "\n",
    "optimizer = optax.adam(learning_rate=1e-3)\n",
    "\n",
    "batch = next(iter(train_loader))\n",
    "x, _ = process_mlp_batch(batch)\n",
    "\n",
    "initial_params = mlp_ve.init(rng, x)\n",
    "    \n",
    "params = fit(initial_params, optimizer, compute_loss_mlp, process_mlp_batch, train_loader, 100)\n",
    "\n"
   ]
  },
  {
   "cell_type": "code",
   "execution_count": 10,
   "metadata": {},
   "outputs": [
    {
     "name": "stdout",
     "output_type": "stream",
     "text": [
      "Epoch: 0 - loss: 19.547609329223633 - Execution time: 19.785537242889404 sec\n",
      "Epoch: 1 - loss: 19.53062629699707 - Execution time: 52.64488887786865 sec\n",
      "Epoch: 2 - loss: 19.49976921081543 - Execution time: 53.094120502471924 sec\n",
      "Epoch: 3 - loss: 19.465970993041992 - Execution time: 52.71249771118164 sec\n",
      "Epoch: 4 - loss: 19.44119644165039 - Execution time: 52.60916566848755 sec\n",
      "Epoch: 5 - loss: 19.420146942138672 - Execution time: 52.63534188270569 sec\n",
      "Epoch: 6 - loss: 19.39902114868164 - Execution time: 53.002936601638794 sec\n",
      "Epoch: 7 - loss: 19.377634048461914 - Execution time: 52.440221071243286 sec\n",
      "Epoch: 8 - loss: 19.355958938598633 - Execution time: 53.03923726081848 sec\n",
      "Epoch: 9 - loss: 19.334089279174805 - Execution time: 52.76970839500427 sec\n",
      "Epoch: 10 - loss: 19.312088012695312 - Execution time: 52.46065068244934 sec\n"
     ]
    },
    {
     "ename": "KeyboardInterrupt",
     "evalue": "",
     "output_type": "error",
     "traceback": [
      "\u001b[0;31m---------------------------------------------------------------------------\u001b[0m",
      "\u001b[0;31mKeyboardInterrupt\u001b[0m                         Traceback (most recent call last)",
      "Cell \u001b[0;32mIn[10], line 10\u001b[0m\n\u001b[1;32m      6\u001b[0m x, _ \u001b[39m=\u001b[39m process_egae_batch(batch)\n\u001b[1;32m      8\u001b[0m initial_params \u001b[39m=\u001b[39m egae\u001b[39m.\u001b[39minit(rng, x)\n\u001b[0;32m---> 10\u001b[0m params \u001b[39m=\u001b[39m fit(initial_params, optimizer, compute_loss_egae, process_egae_batch, train_loader, \u001b[39m100\u001b[39;49m)\n",
      "File \u001b[0;32m~/models/ecv/training.py:35\u001b[0m, in \u001b[0;36mfit\u001b[0;34m(params, optimizer, loss_fn, process_batch, data_loader, epochs)\u001b[0m\n\u001b[1;32m     33\u001b[0m losses \u001b[39m=\u001b[39m []\n\u001b[1;32m     34\u001b[0m start \u001b[39m=\u001b[39m time\u001b[39m.\u001b[39mtime()\n\u001b[0;32m---> 35\u001b[0m \u001b[39mfor\u001b[39;00m j, batch \u001b[39min\u001b[39;00m \u001b[39menumerate\u001b[39m(data_loader):\n\u001b[1;32m     36\u001b[0m   x, y \u001b[39m=\u001b[39m process_batch(batch)\n\u001b[1;32m     37\u001b[0m   params, state, loss \u001b[39m=\u001b[39m update(params, state, x, y)\n",
      "File \u001b[0;32m~/models/ecv/utils/dataloader.py:22\u001b[0m, in \u001b[0;36mDataLoader.__next__\u001b[0;34m(self)\u001b[0m\n\u001b[1;32m     20\u001b[0m     \u001b[39mself\u001b[39m\u001b[39m.\u001b[39midx \u001b[39m+\u001b[39m\u001b[39m=\u001b[39m \u001b[39mself\u001b[39m\u001b[39m.\u001b[39mbatch_size\n\u001b[1;32m     21\u001b[0m     batch_idx \u001b[39m=\u001b[39m \u001b[39mself\u001b[39m\u001b[39m.\u001b[39mindeces[\u001b[39mself\u001b[39m\u001b[39m.\u001b[39midx \u001b[39m-\u001b[39m \u001b[39mself\u001b[39m\u001b[39m.\u001b[39mbatch_size: \u001b[39mself\u001b[39m\u001b[39m.\u001b[39midx]\n\u001b[0;32m---> 22\u001b[0m     \u001b[39mreturn\u001b[39;00m \u001b[39mself\u001b[39m\u001b[39m.\u001b[39mnode_features[batch_idx], \u001b[39mself\u001b[39m\u001b[39m.\u001b[39mcoords[batch_idx], \u001b[39mself\u001b[39;49m\u001b[39m.\u001b[39;49mvelocities[batch_idx]\n\u001b[1;32m     23\u001b[0m \u001b[39melse\u001b[39;00m:\n\u001b[1;32m     24\u001b[0m     \u001b[39mself\u001b[39m\u001b[39m.\u001b[39mdata \u001b[39m=\u001b[39m permutation(PRNGKey(\u001b[39mself\u001b[39m\u001b[39m.\u001b[39mseed), \u001b[39mself\u001b[39m\u001b[39m.\u001b[39mindeces)\n",
      "File \u001b[0;32m~/miniconda3/envs/sages_2/lib/python3.8/site-packages/jax/_src/array.py:316\u001b[0m, in \u001b[0;36mArrayImpl.__getitem__\u001b[0;34m(self, idx)\u001b[0m\n\u001b[1;32m    314\u001b[0m   \u001b[39mreturn\u001b[39;00m lax_numpy\u001b[39m.\u001b[39m_rewriting_take(\u001b[39mself\u001b[39m, idx)\n\u001b[1;32m    315\u001b[0m \u001b[39melse\u001b[39;00m:\n\u001b[0;32m--> 316\u001b[0m   \u001b[39mreturn\u001b[39;00m lax_numpy\u001b[39m.\u001b[39;49m_rewriting_take(\u001b[39mself\u001b[39;49m, idx)\n",
      "File \u001b[0;32m~/miniconda3/envs/sages_2/lib/python3.8/site-packages/jax/_src/numpy/lax_numpy.py:4092\u001b[0m, in \u001b[0;36m_rewriting_take\u001b[0;34m(arr, idx, indices_are_sorted, unique_indices, mode, fill_value)\u001b[0m\n\u001b[1;32m   4089\u001b[0m       \u001b[39mreturn\u001b[39;00m lax\u001b[39m.\u001b[39mdynamic_index_in_dim(arr, idx, keepdims\u001b[39m=\u001b[39m\u001b[39mFalse\u001b[39;00m)\n\u001b[1;32m   4091\u001b[0m treedef, static_idx, dynamic_idx \u001b[39m=\u001b[39m _split_index_for_jit(idx, arr\u001b[39m.\u001b[39mshape)\n\u001b[0;32m-> 4092\u001b[0m \u001b[39mreturn\u001b[39;00m _gather(arr, treedef, static_idx, dynamic_idx, indices_are_sorted,\n\u001b[1;32m   4093\u001b[0m                unique_indices, mode, fill_value)\n",
      "File \u001b[0;32m~/miniconda3/envs/sages_2/lib/python3.8/site-packages/jax/_src/numpy/lax_numpy.py:4101\u001b[0m, in \u001b[0;36m_gather\u001b[0;34m(arr, treedef, static_idx, dynamic_idx, indices_are_sorted, unique_indices, mode, fill_value)\u001b[0m\n\u001b[1;32m   4098\u001b[0m \u001b[39mdef\u001b[39;00m \u001b[39m_gather\u001b[39m(arr, treedef, static_idx, dynamic_idx, indices_are_sorted,\n\u001b[1;32m   4099\u001b[0m             unique_indices, mode, fill_value):\n\u001b[1;32m   4100\u001b[0m   idx \u001b[39m=\u001b[39m _merge_static_and_dynamic_indices(treedef, static_idx, dynamic_idx)\n\u001b[0;32m-> 4101\u001b[0m   indexer \u001b[39m=\u001b[39m _index_to_gather(shape(arr), idx)  \u001b[39m# shared with _scatter_update\u001b[39;00m\n\u001b[1;32m   4102\u001b[0m   y \u001b[39m=\u001b[39m arr\n\u001b[1;32m   4104\u001b[0m   \u001b[39mif\u001b[39;00m fill_value \u001b[39mis\u001b[39;00m \u001b[39mnot\u001b[39;00m \u001b[39mNone\u001b[39;00m:\n",
      "File \u001b[0;32m~/miniconda3/envs/sages_2/lib/python3.8/site-packages/jax/_src/numpy/lax_numpy.py:4271\u001b[0m, in \u001b[0;36m_index_to_gather\u001b[0;34m(x_shape, idx, normalize_indices)\u001b[0m\n\u001b[1;32m   4264\u001b[0m \u001b[39mfor\u001b[39;00m idx_pos, i \u001b[39min\u001b[39;00m \u001b[39menumerate\u001b[39m(idx):\n\u001b[1;32m   4265\u001b[0m   \u001b[39m# Handle the advanced indices here if:\u001b[39;00m\n\u001b[1;32m   4266\u001b[0m   \u001b[39m# * the advanced indices were not contiguous and we are the start.\u001b[39;00m\n\u001b[1;32m   4267\u001b[0m   \u001b[39m# * we are at the position of the first advanced index.\u001b[39;00m\n\u001b[1;32m   4268\u001b[0m   \u001b[39mif\u001b[39;00m (advanced_indexes \u001b[39mis\u001b[39;00m \u001b[39mnot\u001b[39;00m \u001b[39mNone\u001b[39;00m \u001b[39mand\u001b[39;00m\n\u001b[1;32m   4269\u001b[0m       (advanced_axes_are_contiguous \u001b[39mand\u001b[39;00m idx_pos \u001b[39m==\u001b[39m idx_advanced_axes[\u001b[39m0\u001b[39m] \u001b[39mor\u001b[39;00m\n\u001b[1;32m   4270\u001b[0m        \u001b[39mnot\u001b[39;00m advanced_axes_are_contiguous \u001b[39mand\u001b[39;00m idx_pos \u001b[39m==\u001b[39m \u001b[39m0\u001b[39m)):\n\u001b[0;32m-> 4271\u001b[0m     advanced_indexes \u001b[39m=\u001b[39m broadcast_arrays(\u001b[39m*\u001b[39;49madvanced_indexes)\n\u001b[1;32m   4272\u001b[0m     shape \u001b[39m=\u001b[39m advanced_indexes[\u001b[39m0\u001b[39m]\u001b[39m.\u001b[39mshape\n\u001b[1;32m   4273\u001b[0m     ndim \u001b[39m=\u001b[39m \u001b[39mlen\u001b[39m(shape)\n",
      "File \u001b[0;32m~/miniconda3/envs/sages_2/lib/python3.8/site-packages/jax/_src/numpy/lax_numpy.py:1137\u001b[0m, in \u001b[0;36mbroadcast_arrays\u001b[0;34m(*args)\u001b[0m\n\u001b[1;32m   1133\u001b[0m \u001b[39m@util\u001b[39m\u001b[39m.\u001b[39m_wraps(np\u001b[39m.\u001b[39mbroadcast_arrays, lax_description\u001b[39m=\u001b[39m\u001b[39m\"\"\"\u001b[39m\u001b[39m\\\u001b[39;00m\n\u001b[1;32m   1134\u001b[0m \u001b[39mThe JAX version does not necessarily return a view of the input.\u001b[39m\n\u001b[1;32m   1135\u001b[0m \u001b[39m\"\"\"\u001b[39m)\n\u001b[1;32m   1136\u001b[0m \u001b[39mdef\u001b[39;00m \u001b[39mbroadcast_arrays\u001b[39m(\u001b[39m*\u001b[39margs: ArrayLike) \u001b[39m-\u001b[39m\u001b[39m>\u001b[39m List[Array]:\n\u001b[0;32m-> 1137\u001b[0m   \u001b[39mreturn\u001b[39;00m util\u001b[39m.\u001b[39;49m_broadcast_arrays(\u001b[39m*\u001b[39;49margs)\n",
      "    \u001b[0;31m[... skipping hidden 1 frame]\u001b[0m\n",
      "File \u001b[0;32m~/miniconda3/envs/sages_2/lib/python3.8/site-packages/jax/_src/pjit.py:208\u001b[0m, in \u001b[0;36m_cpp_pjit.<locals>.cache_miss\u001b[0;34m(*args, **kwargs)\u001b[0m\n\u001b[1;32m    206\u001b[0m \u001b[39m@api_boundary\u001b[39m\n\u001b[1;32m    207\u001b[0m \u001b[39mdef\u001b[39;00m \u001b[39mcache_miss\u001b[39m(\u001b[39m*\u001b[39margs, \u001b[39m*\u001b[39m\u001b[39m*\u001b[39mkwargs):\n\u001b[0;32m--> 208\u001b[0m   outs, out_flat, out_tree, args_flat \u001b[39m=\u001b[39m _python_pjit_helper(\n\u001b[1;32m    209\u001b[0m       fun, infer_params_fn, \u001b[39m*\u001b[39;49margs, \u001b[39m*\u001b[39;49m\u001b[39m*\u001b[39;49mkwargs)\n\u001b[1;32m    211\u001b[0m   executable \u001b[39m=\u001b[39m _read_most_recent_pjit_call_executable()\n\u001b[1;32m    213\u001b[0m   use_fastpath \u001b[39m=\u001b[39m (\n\u001b[1;32m    214\u001b[0m       executable \u001b[39mis\u001b[39;00m \u001b[39mnot\u001b[39;00m \u001b[39mNone\u001b[39;00m \u001b[39mand\u001b[39;00m\n\u001b[1;32m    215\u001b[0m       \u001b[39misinstance\u001b[39m(executable, pxla\u001b[39m.\u001b[39mMeshExecutable) \u001b[39mand\u001b[39;00m\n\u001b[0;32m   (...)\u001b[0m\n\u001b[1;32m    221\u001b[0m       \u001b[39mall\u001b[39m(\u001b[39misinstance\u001b[39m(x, xc\u001b[39m.\u001b[39mArrayImpl) \u001b[39mfor\u001b[39;00m x \u001b[39min\u001b[39;00m out_flat)\n\u001b[1;32m    222\u001b[0m   )\n",
      "File \u001b[0;32m~/miniconda3/envs/sages_2/lib/python3.8/site-packages/jax/_src/pjit.py:155\u001b[0m, in \u001b[0;36m_python_pjit_helper\u001b[0;34m(fun, infer_params_fn, *args, **kwargs)\u001b[0m\n\u001b[1;32m    153\u001b[0m   dispatch\u001b[39m.\u001b[39mcheck_arg(arg)\n\u001b[1;32m    154\u001b[0m \u001b[39mtry\u001b[39;00m:\n\u001b[0;32m--> 155\u001b[0m   out_flat \u001b[39m=\u001b[39m pjit_p\u001b[39m.\u001b[39;49mbind(\u001b[39m*\u001b[39;49margs_flat, \u001b[39m*\u001b[39;49m\u001b[39m*\u001b[39;49mparams)\n\u001b[1;32m    156\u001b[0m \u001b[39mexcept\u001b[39;00m pxla\u001b[39m.\u001b[39mDeviceAssignmentMismatchError \u001b[39mas\u001b[39;00m e:\n\u001b[1;32m    157\u001b[0m   fails, \u001b[39m=\u001b[39m e\u001b[39m.\u001b[39margs\n",
      "File \u001b[0;32m~/miniconda3/envs/sages_2/lib/python3.8/site-packages/jax/_src/core.py:2629\u001b[0m, in \u001b[0;36mAxisPrimitive.bind\u001b[0;34m(self, *args, **params)\u001b[0m\n\u001b[1;32m   2627\u001b[0m \u001b[39mdef\u001b[39;00m \u001b[39mbind\u001b[39m(\u001b[39mself\u001b[39m, \u001b[39m*\u001b[39margs, \u001b[39m*\u001b[39m\u001b[39m*\u001b[39mparams):\n\u001b[1;32m   2628\u001b[0m   top_trace \u001b[39m=\u001b[39m find_top_trace(args)\n\u001b[0;32m-> 2629\u001b[0m   axis_main \u001b[39m=\u001b[39m \u001b[39mmax\u001b[39m((axis_frame(a)\u001b[39m.\u001b[39mmain_trace \u001b[39mfor\u001b[39;00m a \u001b[39min\u001b[39;00m used_axis_names(\u001b[39mself\u001b[39;49m, params)),\n\u001b[1;32m   2630\u001b[0m                   default\u001b[39m=\u001b[39m\u001b[39mNone\u001b[39;00m, key\u001b[39m=\u001b[39m\u001b[39mlambda\u001b[39;00m t: \u001b[39mgetattr\u001b[39m(t, \u001b[39m'\u001b[39m\u001b[39mlevel\u001b[39m\u001b[39m'\u001b[39m, \u001b[39m-\u001b[39m\u001b[39m1\u001b[39m))\n\u001b[1;32m   2631\u001b[0m   top_trace \u001b[39m=\u001b[39m (top_trace \u001b[39mif\u001b[39;00m \u001b[39mnot\u001b[39;00m axis_main \u001b[39mor\u001b[39;00m axis_main\u001b[39m.\u001b[39mlevel \u001b[39m<\u001b[39m top_trace\u001b[39m.\u001b[39mlevel\n\u001b[1;32m   2632\u001b[0m                \u001b[39melse\u001b[39;00m axis_main\u001b[39m.\u001b[39mwith_cur_sublevel())\n\u001b[1;32m   2633\u001b[0m   \u001b[39mreturn\u001b[39;00m \u001b[39mself\u001b[39m\u001b[39m.\u001b[39mbind_with_trace(top_trace, args, params)\n",
      "File \u001b[0;32m~/miniconda3/envs/sages_2/lib/python3.8/site-packages/jax/_src/core.py:2533\u001b[0m, in \u001b[0;36mused_axis_names\u001b[0;34m(primitive, params)\u001b[0m\n\u001b[1;32m   2531\u001b[0m \u001b[39mdef\u001b[39;00m \u001b[39mused_axis_names\u001b[39m(primitive: Primitive, params: ParamDict) \u001b[39m-\u001b[39m\u001b[39m>\u001b[39m Set[AxisName]:\n\u001b[1;32m   2532\u001b[0m   subst \u001b[39m=\u001b[39m NameGatheringSubst()\n\u001b[0;32m-> 2533\u001b[0m   subst_axis_names(primitive, params, subst)\n\u001b[1;32m   2534\u001b[0m   \u001b[39mreturn\u001b[39;00m subst\u001b[39m.\u001b[39maxis_names\n",
      "File \u001b[0;32m~/miniconda3/envs/sages_2/lib/python3.8/site-packages/jax/_src/core.py:2552\u001b[0m, in \u001b[0;36msubst_axis_names\u001b[0;34m(primitive, params, subst, traverse)\u001b[0m\n\u001b[1;32m   2550\u001b[0m new_params \u001b[39m=\u001b[39m \u001b[39mdict\u001b[39m(params)\n\u001b[1;32m   2551\u001b[0m \u001b[39mfor\u001b[39;00m name, jaxpr \u001b[39min\u001b[39;00m jaxpr_params:\n\u001b[0;32m-> 2552\u001b[0m   new_params[name] \u001b[39m=\u001b[39m subst_axis_names_jaxpr(jaxpr, shadowed_subst)\n\u001b[1;32m   2553\u001b[0m \u001b[39mreturn\u001b[39;00m new_params\n",
      "File \u001b[0;32m~/miniconda3/envs/sages_2/lib/python3.8/site-packages/jax/_src/core.py:2608\u001b[0m, in \u001b[0;36msubst_axis_names_jaxpr\u001b[0;34m(jaxpr, subst)\u001b[0m\n\u001b[1;32m   2606\u001b[0m \u001b[39mdef\u001b[39;00m \u001b[39msubst_axis_names_jaxpr\u001b[39m(jaxpr: Union[Jaxpr, ClosedJaxpr], subst: AxisSubst):\n\u001b[1;32m   2607\u001b[0m   \u001b[39mif\u001b[39;00m \u001b[39misinstance\u001b[39m(subst, NameGatheringSubst):  \u001b[39m# This is a common case, so we optimize it!\u001b[39;00m\n\u001b[0;32m-> 2608\u001b[0m     subst\u001b[39m.\u001b[39maxis_names \u001b[39m|\u001b[39m\u001b[39m=\u001b[39m used_axis_names_jaxpr(jaxpr)\n\u001b[1;32m   2609\u001b[0m     \u001b[39mreturn\u001b[39;00m jaxpr\n\u001b[1;32m   2610\u001b[0m   \u001b[39mreturn\u001b[39;00m do_subst_axis_names_jaxpr(jaxpr, subst)\n",
      "File \u001b[0;32m~/miniconda3/envs/sages_2/lib/python3.8/site-packages/jax/_src/config.py:464\u001b[0m, in \u001b[0;36mConfig._trace_context\u001b[0;34m(self)\u001b[0m\n\u001b[1;32m    462\u001b[0m mesh_context_manager \u001b[39m=\u001b[39m ()\n\u001b[1;32m    463\u001b[0m context \u001b[39m=\u001b[39m tls\u001b[39m.\u001b[39mextra_jit_context\n\u001b[0;32m--> 464\u001b[0m \u001b[39mif\u001b[39;00m context \u001b[39mand\u001b[39;00m context\u001b[39m.\u001b[39;49maxis_env_state \u001b[39mis\u001b[39;00m \u001b[39mnot\u001b[39;00m \u001b[39mNone\u001b[39;00m:\n\u001b[1;32m    465\u001b[0m   axis_env_state \u001b[39m=\u001b[39m context\u001b[39m.\u001b[39maxis_env_state\n\u001b[1;32m    466\u001b[0m \u001b[39mif\u001b[39;00m context \u001b[39mand\u001b[39;00m context\u001b[39m.\u001b[39mmesh_context_manager:\n",
      "\u001b[0;31mKeyboardInterrupt\u001b[0m: "
     ]
    }
   ],
   "source": [
    "rng = random.PRNGKey(391230)\n",
    "\n",
    "optimizer = optax.adam(learning_rate=1e-7)\n",
    "\n",
    "batch = next(iter(train_loader))\n",
    "x, _ = process_egae_batch(batch)\n",
    "\n",
    "initial_params = egae.init(rng, x)\n",
    "    \n",
    "params = fit(initial_params, optimizer, compute_loss_egae, process_egae_batch, train_loader, 100)"
   ]
  }
 ],
 "metadata": {
  "kernelspec": {
   "display_name": "sages_2",
   "language": "python",
   "name": "python3"
  },
  "language_info": {
   "codemirror_mode": {
    "name": "ipython",
    "version": 3
   },
   "file_extension": ".py",
   "mimetype": "text/x-python",
   "name": "python",
   "nbconvert_exporter": "python",
   "pygments_lexer": "ipython3",
   "version": "3.8.16"
  },
  "orig_nbformat": 4
 },
 "nbformat": 4,
 "nbformat_minor": 2
}
